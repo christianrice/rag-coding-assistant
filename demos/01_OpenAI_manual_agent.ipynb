{
 "cells": [
  {
   "cell_type": "code",
   "execution_count": null,
   "metadata": {},
   "outputs": [],
   "source": [
    "# %pip install openai"
   ]
  },
  {
   "cell_type": "markdown",
   "metadata": {},
   "source": [
    "### Initialize OpenAI Client"
   ]
  },
  {
   "cell_type": "code",
   "execution_count": 1,
   "metadata": {},
   "outputs": [],
   "source": [
    "from dotenv import load_dotenv\n",
    "import os\n",
    "\n",
    "# Load .env file\n",
    "load_dotenv()\n",
    "\n",
    "# Get OPENAI_API_KEY and OPENAI_ORGANIZATION from .env file\n",
    "api_key = os.getenv(\"OPENAI_API_KEY\")\n",
    "organization = os.getenv(\"OPENAI_ORGANIZATION\")"
   ]
  },
  {
   "cell_type": "code",
   "execution_count": 2,
   "metadata": {},
   "outputs": [],
   "source": [
    "from openai import OpenAI\n",
    "\n",
    "client = OpenAI(\n",
    "    api_key=os.getenv(\"OPENAI_API_KEY\"), organization=os.getenv(\"OPENAI_ORGANIZATION\")\n",
    ")"
   ]
  },
  {
   "cell_type": "markdown",
   "metadata": {},
   "source": [
    "### Set up the data structure for our conversation"
   ]
  },
  {
   "cell_type": "code",
   "execution_count": 3,
   "metadata": {},
   "outputs": [],
   "source": [
    "# We want our messages to look something like this:\n",
    "messages = [\n",
    "    {\n",
    "        \"role\": \"system\",\n",
    "        \"content\": \"You are an expert at adding and multiplying numbers together. Don't make assumptions about what values to plug into functions. Ask for clarification if a user request is ambiguous.\",\n",
    "    },\n",
    "    {\"role\": \"user\", \"content\": \"Hello!\"},\n",
    "]"
   ]
  },
  {
   "cell_type": "code",
   "execution_count": 5,
   "metadata": {},
   "outputs": [],
   "source": [
    "# So let's make some classes\n",
    "from typing import List, Dict\n",
    "\n",
    "\n",
    "class Message:\n",
    "    def __init__(\n",
    "        self,\n",
    "        role: str,\n",
    "        content: str,\n",
    "        tool_calls: List = [],\n",
    "        tool_call_id: str = None,\n",
    "        name: str = None,\n",
    "    ):\n",
    "        self.role = role\n",
    "        self.content = content\n",
    "        self.tool_calls = tool_calls\n",
    "        self.tool_call_id = tool_call_id\n",
    "        self.name = name\n",
    "\n",
    "    def to_dict(self):\n",
    "        message_dict = {\"role\": self.role, \"content\": self.content}\n",
    "        if self.tool_calls:\n",
    "            message_dict[\"tool_calls\"] = self.tool_calls\n",
    "        if self.tool_call_id:\n",
    "            message_dict[\"tool_call_id\"] = self.tool_call_id\n",
    "        if self.name:\n",
    "            message_dict[\"name\"] = self.name\n",
    "        return message_dict\n",
    "\n",
    "\n",
    "class Conversation:\n",
    "    def __init__(self, messages: List[Dict[str, str]]):\n",
    "        self.messages = [Message(**message) for message in messages]\n",
    "\n",
    "    def __iter__(self):\n",
    "        for message in self.messages:\n",
    "            yield message\n",
    "\n",
    "    def to_dict(self):\n",
    "        return [message.to_dict() for message in self.messages]\n",
    "\n",
    "    def add_message(self, message: Dict[str, str]):\n",
    "        self.messages.append(Message(**message))\n",
    "\n",
    "    def add_system_message(self, completion):\n",
    "        self.add_message(\n",
    "            {\n",
    "                \"role\": completion.choices[0].message.role,\n",
    "                \"content\": completion.choices[0].message.content,\n",
    "                \"tool_calls\": completion.choices[0].message.tool_calls,\n",
    "            }\n",
    "        )\n",
    "\n",
    "    def add_human_message(self, message):\n",
    "        self.add_message(\n",
    "            {\n",
    "                \"role\": \"user\",\n",
    "                \"content\": message,\n",
    "            }\n",
    "        )\n",
    "\n",
    "    def add_tool_message(self, tool_called, response):\n",
    "        self.add_message(\n",
    "            {\n",
    "                \"role\": \"tool\",\n",
    "                \"name\": tool_called.function.name,\n",
    "                \"tool_call_id\": tool_called.id,\n",
    "                \"content\": str(response)\n",
    "            }\n",
    "        )\n",
    "\n",
    "    def print_conversation(self):\n",
    "        for message in self.messages:\n",
    "            print(f\"{message.role}: {message.content}\")"
   ]
  },
  {
   "cell_type": "code",
   "execution_count": 6,
   "metadata": {},
   "outputs": [
    {
     "name": "stdout",
     "output_type": "stream",
     "text": [
      "system: You are an expert at adding and multiplying numbers together. Don't make assumptions about what values to plug into functions. Ask for clarification if a user request is ambiguous.\n",
      "user: Hello!\n"
     ]
    }
   ],
   "source": [
    "# Create our conversation\n",
    "conversation = Conversation(messages)\n",
    "conversation.print_conversation()"
   ]
  },
  {
   "cell_type": "code",
   "execution_count": 7,
   "metadata": {},
   "outputs": [
    {
     "data": {
      "text/plain": [
       "[{'role': 'system',\n",
       "  'content': \"You are an expert at adding and multiplying numbers together. Don't make assumptions about what values to plug into functions. Ask for clarification if a user request is ambiguous.\"},\n",
       " {'role': 'user', 'content': 'Hello!'}]"
      ]
     },
     "execution_count": 7,
     "metadata": {},
     "output_type": "execute_result"
    }
   ],
   "source": [
    "# And review our conversation so far from the eyes of OpenAI\n",
    "conversation.to_dict()"
   ]
  },
  {
   "cell_type": "markdown",
   "metadata": {},
   "source": [
    "### Now let's start chatting with OpenAI"
   ]
  },
  {
   "cell_type": "code",
   "execution_count": 8,
   "metadata": {},
   "outputs": [],
   "source": [
    "# We'll call this a bunch, so let's make a function\n",
    "def chat_with_openai(conversation):\n",
    "    completion = client.chat.completions.create(\n",
    "        model=\"gpt-3.5-turbo-1106\",\n",
    "        messages=conversation.to_dict(),\n",
    "    )\n",
    "\n",
    "    return completion"
   ]
  },
  {
   "cell_type": "code",
   "execution_count": 9,
   "metadata": {},
   "outputs": [
    {
     "name": "stdout",
     "output_type": "stream",
     "text": [
      "ChatCompletion(id='chatcmpl-8lN7lA8K6USKCy28Vraeue4qUwzHe', choices=[Choice(finish_reason='stop', index=0, logprobs=None, message=ChatCompletionMessage(content='Hello! How can I assist you today?', role='assistant', function_call=None, tool_calls=None))], created=1706300997, model='gpt-3.5-turbo-1106', object='chat.completion', system_fingerprint='fp_b57c83dd65', usage=CompletionUsage(completion_tokens=9, prompt_tokens=46, total_tokens=55))\n"
     ]
    }
   ],
   "source": [
    "# Let's call it now with our convesation\n",
    "completion = chat_with_openai(conversation)\n",
    "\n",
    "print(completion)"
   ]
  },
  {
   "cell_type": "code",
   "execution_count": 10,
   "metadata": {},
   "outputs": [
    {
     "name": "stdout",
     "output_type": "stream",
     "text": [
      "ChatCompletionMessage(content='Hello! How can I assist you today?', role='assistant', function_call=None, tool_calls=None)\n"
     ]
    }
   ],
   "source": [
    "# What does just the message look like?\n",
    "print(completion.choices[0].message)"
   ]
  },
  {
   "cell_type": "code",
   "execution_count": 11,
   "metadata": {},
   "outputs": [
    {
     "name": "stdout",
     "output_type": "stream",
     "text": [
      "system: You are an expert at adding and multiplying numbers together. Don't make assumptions about what values to plug into functions. Ask for clarification if a user request is ambiguous.\n",
      "user: Hello!\n",
      "assistant: Hello! How can I assist you today?\n"
     ]
    }
   ],
   "source": [
    "# Let's add it to our convesation thread\n",
    "conversation.add_system_message(completion)\n",
    "\n",
    "# And let's review what these messages look like so far\n",
    "conversation.print_conversation()"
   ]
  },
  {
   "cell_type": "code",
   "execution_count": 12,
   "metadata": {},
   "outputs": [
    {
     "name": "stdout",
     "output_type": "stream",
     "text": [
      "system: You are an expert at adding and multiplying numbers together. Don't make assumptions about what values to plug into functions. Ask for clarification if a user request is ambiguous.\n",
      "user: Hello!\n",
      "assistant: Hello! How can I assist you today?\n",
      "user: I want to add together 284, 317, and 42 and multiply the result by 13\n"
     ]
    }
   ],
   "source": [
    "# Now let's add our new request\n",
    "conversation.add_human_message(\"I want to add together 284, 317, and 42 and multiply the result by 13\")\n",
    "conversation.print_conversation()"
   ]
  },
  {
   "cell_type": "code",
   "execution_count": 13,
   "metadata": {},
   "outputs": [
    {
     "name": "stdout",
     "output_type": "stream",
     "text": [
      "system: You are an expert at adding and multiplying numbers together. Don't make assumptions about what values to plug into functions. Ask for clarification if a user request is ambiguous.\n",
      "user: Hello!\n",
      "assistant: Hello! How can I assist you today?\n",
      "user: I want to add together 284, 317, and 42 and multiply the result by 13\n",
      "assistant: Sure! First, let's add 284, 317, and 42 together to get the total. Then, we can multiply that sum by 13. Let's start by finding the sum of 284, 317, and 42.\n"
     ]
    }
   ],
   "source": [
    "# Run the conversation again, and print the message\n",
    "# (BTW, we expect an answer of 8359)\n",
    "completion = chat_with_openai(conversation)\n",
    "conversation.add_system_message(completion)\n",
    "conversation.print_conversation()"
   ]
  },
  {
   "cell_type": "markdown",
   "metadata": {},
   "source": [
    "### We could repeat this process indefinitely"
   ]
  },
  {
   "cell_type": "code",
   "execution_count": 14,
   "metadata": {},
   "outputs": [
    {
     "name": "stdout",
     "output_type": "stream",
     "text": [
      "system: You are an expert at adding and multiplying numbers together. Don't make assumptions about what values to plug into functions. Ask for clarification if a user request is ambiguous.\n",
      "user: Hello!\n",
      "assistant: Hello! How can I assist you today?\n",
      "user: I want to add together 284, 317, and 42 and multiply the result by 13\n",
      "assistant: Sure! First, let's add 284, 317, and 42 together to get the total. Then, we can multiply that sum by 13. Let's start by finding the sum of 284, 317, and 42.\n",
      "user: GO for it\n",
      "assistant: The sum of 284, 317, and 42 is 643. Now, let's multiply that sum by 13. \n",
      "\n",
      "643 * 13 = 8369\n",
      "\n",
      "So, the result of adding 284, 317, and 42 together and then multiplying the sum by 13 is 8369.\n"
     ]
    },
    {
     "data": {
      "text/plain": [
       "<__main__.Conversation at 0x108621d90>"
      ]
     },
     "execution_count": 14,
     "metadata": {},
     "output_type": "execute_result"
    }
   ],
   "source": [
    "def run_conversation(new_message, conversation):\n",
    "    conversation.add_human_message(new_message)\n",
    "    completion = chat_with_openai(conversation)\n",
    "    conversation.add_system_message(completion)\n",
    "    conversation.print_conversation()\n",
    "    return conversation\n",
    "\n",
    "run_conversation(\"GO for it\", conversation)"
   ]
  },
  {
   "cell_type": "markdown",
   "metadata": {},
   "source": [
    "### Now let's add in a Tool"
   ]
  },
  {
   "cell_type": "code",
   "execution_count": 15,
   "metadata": {},
   "outputs": [],
   "source": [
    "def add_two_numbers(args):\n",
    "    return args[\"number_a\"] + args[\"number_b\"]"
   ]
  },
  {
   "cell_type": "code",
   "execution_count": 16,
   "metadata": {},
   "outputs": [],
   "source": [
    "# Let's specify the tools we want to include in our OpenAI request\n",
    "tools = [\n",
    "    {\n",
    "        \"type\": \"function\",\n",
    "        \"function\": {\n",
    "            \"name\": \"add_two_numbers\",\n",
    "            \"description\": \"Add two numbers together\",\n",
    "            \"parameters\": {\n",
    "                \"type\": \"object\",\n",
    "                \"properties\": {\n",
    "                    \"number_a\": {\n",
    "                        \"type\": \"integer\",\n",
    "                        \"description\": \"The first number\",\n",
    "                    },\n",
    "                    \"number_b\": {\n",
    "                        \"type\": \"integer\",\n",
    "                        \"description\": \"The second number.\",\n",
    "                    },\n",
    "                },\n",
    "                \"required\": [\"number_a\", \"number_b\"],\n",
    "            },\n",
    "        }\n",
    "    }\n",
    "]"
   ]
  },
  {
   "cell_type": "code",
   "execution_count": 17,
   "metadata": {},
   "outputs": [],
   "source": [
    "# Let's add the tools to our chat request\n",
    "def chat_with_openai_using_tools(conversation):\n",
    "    completion = client.chat.completions.create(\n",
    "        model=\"gpt-3.5-turbo-1106\",\n",
    "        messages=conversation.to_dict(),\n",
    "        tools=tools\n",
    "    )\n",
    "\n",
    "    return completion"
   ]
  },
  {
   "cell_type": "code",
   "execution_count": 18,
   "metadata": {},
   "outputs": [],
   "source": [
    "# We want our messages to look something like this:\n",
    "messages = [\n",
    "    {\n",
    "        \"role\": \"system\",\n",
    "        \"content\": \"You are an expert at adding and multiplying numbers together. Don't make assumptions about what values to plug into functions. Ask for clarification if a user request is ambiguous. Use your tools when they are helpful\",\n",
    "    },\n",
    "    {\"role\": \"user\", \"content\": \"Help me add 13 and 27\"},\n",
    "]\n",
    "\n",
    "conversation_with_tools = Conversation(messages)"
   ]
  },
  {
   "cell_type": "code",
   "execution_count": 19,
   "metadata": {},
   "outputs": [
    {
     "data": {
      "text/plain": [
       "[{'role': 'system',\n",
       "  'content': \"You are an expert at adding and multiplying numbers together. Don't make assumptions about what values to plug into functions. Ask for clarification if a user request is ambiguous. Use your tools when they are helpful\"},\n",
       " {'role': 'user', 'content': 'Help me add 13 and 27'}]"
      ]
     },
     "execution_count": 19,
     "metadata": {},
     "output_type": "execute_result"
    }
   ],
   "source": [
    "conversation_with_tools.to_dict()"
   ]
  },
  {
   "cell_type": "code",
   "execution_count": 20,
   "metadata": {},
   "outputs": [
    {
     "name": "stdout",
     "output_type": "stream",
     "text": [
      "ChatCompletionMessage(content=None, role='assistant', function_call=None, tool_calls=[ChatCompletionMessageToolCall(id='call_FnVzw616axLIBAylVzMffK9f', function=Function(arguments='{\"number_a\":13,\"number_b\":27}', name='add_two_numbers'), type='function')])\n"
     ]
    }
   ],
   "source": [
    "# Let's call it now with our convesation\n",
    "completion = chat_with_openai_using_tools(conversation_with_tools)\n",
    "conversation_with_tools.add_system_message(completion)\n",
    "print(completion.choices[0].message)"
   ]
  },
  {
   "cell_type": "code",
   "execution_count": 21,
   "metadata": {},
   "outputs": [
    {
     "name": "stdout",
     "output_type": "stream",
     "text": [
      "add_two_numbers\n",
      "{\"number_a\":13,\"number_b\":27}\n",
      "call_FnVzw616axLIBAylVzMffK9f\n"
     ]
    }
   ],
   "source": [
    "tool_called = completion.choices[0].message.tool_calls[0]\n",
    "print(tool_called.function.name)\n",
    "print(tool_called.function.arguments)\n",
    "print(tool_called.id)"
   ]
  },
  {
   "cell_type": "code",
   "execution_count": 22,
   "metadata": {},
   "outputs": [
    {
     "data": {
      "text/plain": [
       "[{'role': 'system',\n",
       "  'content': \"You are an expert at adding and multiplying numbers together. Don't make assumptions about what values to plug into functions. Ask for clarification if a user request is ambiguous. Use your tools when they are helpful\"},\n",
       " {'role': 'user', 'content': 'Help me add 13 and 27'},\n",
       " {'role': 'assistant',\n",
       "  'content': None,\n",
       "  'tool_calls': [ChatCompletionMessageToolCall(id='call_FnVzw616axLIBAylVzMffK9f', function=Function(arguments='{\"number_a\":13,\"number_b\":27}', name='add_two_numbers'), type='function')]}]"
      ]
     },
     "execution_count": 22,
     "metadata": {},
     "output_type": "execute_result"
    }
   ],
   "source": [
    "conversation_with_tools.to_dict()"
   ]
  },
  {
   "cell_type": "markdown",
   "metadata": {},
   "source": []
  },
  {
   "cell_type": "code",
   "execution_count": 23,
   "metadata": {},
   "outputs": [
    {
     "name": "stdout",
     "output_type": "stream",
     "text": [
      "40\n"
     ]
    }
   ],
   "source": [
    "# Let's call our amazing addition function\n",
    "import json\n",
    "\n",
    "response = add_two_numbers(json.loads(tool_called.function.arguments))\n",
    "print(response)"
   ]
  },
  {
   "cell_type": "code",
   "execution_count": 24,
   "metadata": {},
   "outputs": [
    {
     "data": {
      "text/plain": [
       "[{'role': 'system',\n",
       "  'content': \"You are an expert at adding and multiplying numbers together. Don't make assumptions about what values to plug into functions. Ask for clarification if a user request is ambiguous. Use your tools when they are helpful\"},\n",
       " {'role': 'user', 'content': 'Help me add 13 and 27'},\n",
       " {'role': 'assistant',\n",
       "  'content': None,\n",
       "  'tool_calls': [ChatCompletionMessageToolCall(id='call_FnVzw616axLIBAylVzMffK9f', function=Function(arguments='{\"number_a\":13,\"number_b\":27}', name='add_two_numbers'), type='function')]},\n",
       " {'role': 'tool',\n",
       "  'content': '40',\n",
       "  'tool_call_id': 'call_FnVzw616axLIBAylVzMffK9f',\n",
       "  'name': 'add_two_numbers'}]"
      ]
     },
     "execution_count": 24,
     "metadata": {},
     "output_type": "execute_result"
    }
   ],
   "source": [
    "conversation_with_tools.add_tool_message(tool_called, response)\n",
    "conversation_with_tools.to_dict()"
   ]
  },
  {
   "cell_type": "code",
   "execution_count": 25,
   "metadata": {},
   "outputs": [
    {
     "name": "stdout",
     "output_type": "stream",
     "text": [
      "system: You are an expert at adding and multiplying numbers together. Don't make assumptions about what values to plug into functions. Ask for clarification if a user request is ambiguous. Use your tools when they are helpful\n",
      "user: Help me add 13 and 27\n",
      "assistant: None\n",
      "tool: 40\n",
      "assistant: The sum of 13 and 27 is 40.\n"
     ]
    }
   ],
   "source": [
    "# Let's call it now with our convesation\n",
    "completion = chat_with_openai_using_tools(conversation_with_tools)\n",
    "conversation_with_tools.add_system_message(completion)\n",
    "conversation_with_tools.print_conversation()"
   ]
  },
  {
   "cell_type": "code",
   "execution_count": 26,
   "metadata": {},
   "outputs": [
    {
     "data": {
      "text/plain": [
       "[{'role': 'system',\n",
       "  'content': \"You are an expert at adding and multiplying numbers together. Don't make assumptions about what values to plug into functions. Ask for clarification if a user request is ambiguous. Use your tools when they are helpful\"},\n",
       " {'role': 'user', 'content': 'Help me add 13 and 27'},\n",
       " {'role': 'assistant',\n",
       "  'content': None,\n",
       "  'tool_calls': [ChatCompletionMessageToolCall(id='call_FnVzw616axLIBAylVzMffK9f', function=Function(arguments='{\"number_a\":13,\"number_b\":27}', name='add_two_numbers'), type='function')]},\n",
       " {'role': 'tool',\n",
       "  'content': '40',\n",
       "  'tool_call_id': 'call_FnVzw616axLIBAylVzMffK9f',\n",
       "  'name': 'add_two_numbers'},\n",
       " {'role': 'assistant', 'content': 'The sum of 13 and 27 is 40.'}]"
      ]
     },
     "execution_count": 26,
     "metadata": {},
     "output_type": "execute_result"
    }
   ],
   "source": [
    "conversation_with_tools.to_dict()"
   ]
  },
  {
   "cell_type": "code",
   "execution_count": null,
   "metadata": {},
   "outputs": [],
   "source": []
  }
 ],
 "metadata": {
  "kernelspec": {
   "display_name": "base",
   "language": "python",
   "name": "python3"
  },
  "language_info": {
   "codemirror_mode": {
    "name": "ipython",
    "version": 3
   },
   "file_extension": ".py",
   "mimetype": "text/x-python",
   "name": "python",
   "nbconvert_exporter": "python",
   "pygments_lexer": "ipython3",
   "version": "3.11.5"
  }
 },
 "nbformat": 4,
 "nbformat_minor": 2
}
